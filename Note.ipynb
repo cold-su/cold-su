{
 "cells": [
  {
   "cell_type": "code",
   "execution_count": null,
   "metadata": {
    "vscode": {
     "languageId": "cpp"
    }
   },
   "outputs": [],
   "source": [
    "#include <bits/stdc++.h>\n",
    "using namespace std;\n",
    "using u32 = unsigned;\n",
    "using i64 = long long;\n",
    "using u64 = unsigned long long;\n",
    "const static auto initialize = [] {\n",
    "    std::ios::sync_with_stdio(false);\n",
    "    std::cin.tie(nullptr);\n",
    "    std::cout.tie(nullptr);\n",
    "    return nullptr;\n",
    "}();"
   ]
  },
  {
   "cell_type": "markdown",
   "metadata": {},
   "source": [
    "https://t.me/wind_ward_islands"
   ]
  },
  {
   "cell_type": "code",
   "execution_count": null,
   "metadata": {
    "vscode": {
     "languageId": "cpp"
    }
   },
   "outputs": [],
   "source": [
    "sort(nums.begin(),nums.end(),greater<int>());\n",
    "// 这样就可以降序排列了\n",
    "sort(nums.rbegin(),nums.rend());\n",
    "// 这样也可以"
   ]
  },
  {
   "cell_type": "code",
   "execution_count": null,
   "metadata": {
    "vscode": {
     "languageId": "cpp"
    }
   },
   "outputs": [],
   "source": [
    "class Solution { \n",
    "public: \n",
    "    int countSeniors(vector<string>& details) { \n",
    "        int counter=0; \n",
    "        // for(auto each:details){ \n",
    "        //     // 54 indicates number 6 \n",
    "        //     // 48 indicates number 0 \n",
    "        //     #define SIX 54 \n",
    "        //     #define ZERO 48 \n",
    "        //     if(each[11]==SIX && each[12]!=ZERO || each[11]>SIX){ \n",
    "        //         counter++; \n",
    "        //     } \n",
    "        // } \n",
    "        for(int i=0;i<details.size();i++){ \n",
    "            int age=( (details[i][11]-'0')*10 + details[i][12]-'0' ); \n",
    "            counter+=(age>60); \n",
    "        } \n",
    "        return counter; \n",
    "    } \n",
    "};\n",
    "// 看别人的解总是能学到东西。\n",
    "// 注释的是我的解法。别人的解法比我的要直接很多。头一次见到还有这种写法。"
   ]
  },
  {
   "cell_type": "code",
   "execution_count": null,
   "metadata": {
    "vscode": {
     "languageId": "cpp"
    }
   },
   "outputs": [],
   "source": [
    "std::remove_const<drop>()"
   ]
  }
 ],
 "metadata": {
  "language_info": {
   "name": "python"
  }
 },
 "nbformat": 4,
 "nbformat_minor": 2
}
